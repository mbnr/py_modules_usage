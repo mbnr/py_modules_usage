{
 "metadata": {
  "name": "Advanced_links"
 },
 "nbformat": 3,
 "nbformat_minor": 0,
 "worksheets": [
  {
   "cells": [
    {
     "cell_type": "code",
     "collapsed": false,
     "input": [
      "\"http://www-ist.massey.ac.nz/smarsland/MLbook.html\"\n",
      "\n",
      "\"http://www.youtube.com/watch?feature=player_embedded&v=o9pEzgHorH0 - stop writing classes\"\n",
      "\n",
      "\"http://scipy-lectures.github.io/advanced/advanced_python/index.html\"\n",
      "\n",
      "\"http://ankurgupta.quora.com/Python-Worthy-Hyperlinks\"\n",
      "\n",
      "PEP - \"http://www.python.org/dev/peps/pep-0008/\", \"http://www.python.org/dev/peps/pep-0318/\"\n",
      "\n",
      "\"http://www.doughellmann.com/projects/PyMOTW/\"\n",
      "\n",
      "\"http://www.quora.com/Python-programming-language-1/How-does-a-Python-interpreter-work\"\n",
      "\n",
      "\"http://www.quora.com/Python-programming-language-1/What-is-the-GIL-Global-Interpreter-Lock\"\n",
      "\n",
      "\"http://www.quora.com/How-does-the-Global-Interpreter-Lock-affect-performance-in-multi-threaded-Python-applications\"\n",
      "\n",
      "\"Real World Haskell\"\n",
      "\n",
      "\"http://files.swaroopch.com/python/byte_of_python.pdf\"\n",
      "\n",
      "\"http://www.quora.com/Web-Development/What-are-good-ways-to-learn-Python-and-Django\"\n",
      "\n",
      "\"http://www.quora.com/Python-programming-language-1/How-can-I-learn-to-program-in-Python/answer/James-Thornton\"\n",
      "\n",
      "\"http://www.quora.com/Where-are-some-good-Python-source-codes-for-reading\"\n",
      "\n",
      "\"http://python.net/~goodger/projects/pycon/2007/idiomatic/handout.html\"\n",
      "\n",
      "\"http://www.quora.com/Python-programming-language-1/What-are-some-good-resources-to-learn-data-analysis-with-python\"\n",
      "\n",
      "\"http://hetland.org/writing/instant-python.html\"\n",
      "\n",
      "\"http://ivory.idyll.org/articles/advanced-swc/\"\n",
      "\n",
      "\"http://www.quora.com/How-can-I-learn-to-write-idiomatic-Python\"\n",
      "\n",
      "\"http://stackoverflow.com/questions/2573135/python-progression-path-from-apprentice-to-guru\"\n",
      "\n",
      "\"Expert Python Programming - Tarek Ziade\"\n",
      "\n",
      "\"http://www.quora.com/Python-programming-language-1/What-are-the-books-for-mastering-Python\"\n",
      "\n",
      "\"http://stackoverflow.com/questions/269795/how-do-i-find-the-location-of-python-module-sources\"\n",
      "\n",
      "\"http://www.quora.com/Python-programming-language-1/What-is-the-best-way-to-do-multithreading-in-Python\"\n",
      "\n",
      "\"http://www.quora.com/Linux/What-are-some-time-saving-tips-that-every-Linux-user-should-know\"\n",
      "\n",
      "\n",
      "\"\"\"Read source code: \"\"\"\n",
      "\"http://jinja.pocoo.org/2/\"\n",
      "\"SQL Alchemy\"\n",
      "\n",
      "\n"
     ],
     "language": "python",
     "metadata": {},
     "outputs": []
    }
   ],
   "metadata": {}
  }
 ]
}