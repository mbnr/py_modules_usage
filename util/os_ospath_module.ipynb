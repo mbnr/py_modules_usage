{
 "metadata": {
  "name": "os_ospath_module"
 },
 "nbformat": 3,
 "nbformat_minor": 0,
 "worksheets": [
  {
   "cells": [
    {
     "cell_type": "code",
     "collapsed": false,
     "input": [
      "import os\n",
      "import inspect\n",
      "\n",
      "def isIterable(obj):\n",
      "    try:\n",
      "        obj_iterator = iter(obj)\n",
      "    except TypeError, e:\n",
      "        print obj, \"is not iterable\"\n",
      "        return False\n",
      "\n",
      "    return True\n",
      "\n",
      "def print_obj(obj, level = 0):\n",
      "\n",
      "    if isinstance(obj, dict):\n",
      "        temp_str = \"\"\n",
      "        for key, value in obj.iteritems():\n",
      "            temp_str +=  \"\\n\" + \"\\t\" * level + str(key) + print_obj(value, level + 1)\n",
      "        return temp_str\n",
      "    else:\n",
      "        return \":\" + str(obj)\n",
      "\n"
     ],
     "language": "python",
     "metadata": {},
     "outputs": [],
     "prompt_number": 116
    },
    {
     "cell_type": "code",
     "collapsed": false,
     "input": [
      "print os.name"
     ],
     "language": "python",
     "metadata": {},
     "outputs": [
      {
       "output_type": "stream",
       "stream": "stdout",
       "text": [
        "posix\n"
       ]
      }
     ],
     "prompt_number": 2
    },
    {
     "cell_type": "code",
     "collapsed": false,
     "input": [
      "\n",
      "print print_obj(dict(os.environ))"
     ],
     "language": "python",
     "metadata": {},
     "outputs": [
      {
       "output_type": "stream",
       "stream": "stdout",
       "text": [
        "\n",
        "VERSIONER_PYTHON_PREFER_32_BIT:no\n",
        "TERM_PROGRAM_VERSION:309\n",
        "LOGNAME:bmudiam\n",
        "USER:bmudiam\n",
        "HOME:/Users/bmudiam\n",
        "PATH:/opt/local/bin:/opt/local/sbin:/usr/local/sbin/:/usr/local/mysql/bin/:/Developer/usr/bin:/System/Library/Frameworks/JavaVM.framework/Versions/1.6/Home/bin:/opt/local/bin:/opt/local/sbin:/crashtracer/bin/:/usr/local/mysql/bin/:/usr/bin:/bin:/usr/sbin:/sbin:/usr/local/bin\n",
        "PS1:[\\d \\T] \\u@Laptop : \\w\\$ \n",
        "TERM_PROGRAM:Apple_Terminal\n",
        "LANG:en_US.UTF-8\n",
        "__CF_USER_TEXT_ENCODING:0x1F5:0:0\n",
        "TERM:xterm-color\n",
        "SHELL:/bin/bash\n",
        "VERSIONER_PYTHON_VERSION:2.7\n",
        "SHLVL:1\n",
        "MACOSX_DEPLOYMENT_TARGET:10.8\n",
        "HISTSIZE:5000\n",
        "KERBEROSLOGIN_NEVER_PROMPT:true\n",
        "JAVA_HOME:/System/Library/Frameworks/JavaVM.framework/Versions/1.6/Home\n",
        "KRB5_CONFIG:/Users/bmudiam/Library/Preferences/edu.mit.Kerberos\n",
        "TMPDIR:/var/folders/62/zjtxtx2j2mzbv3_xd04tqql00000gn/T/\n",
        "SVN_EDITOR:vim\n",
        "MKL_NUM_THREADS:1\n",
        "TERM_SESSION_ID:A04B59FA-7445-4714-B9F7-D65DAE245785\n",
        "PYTHONPATH:\n",
        "SSH_AUTH_SOCK:/tmp/launch-MsojNE/Listeners\n",
        "DYLD_LIBRARY_PATH:/usr/local/mysql/lib::/usr/local/mysql/lib:/usr/local/mysql/lib\n",
        "Apple_PubSub_Socket_Render:/tmp/launch-7EAeZ4/Render\n",
        "GIT_PAGER:cat\n",
        "_:/usr/local/bin/ipython\n",
        "LSCOLORS:dxfxcxdccxegedabagacadS\n",
        "OLDPWD:/Users/bmudiam/Git/py_modules_usage\n",
        "CLICOLOR:1\n",
        "HISTCONTROL:erasedups\n",
        "Apple_Ubiquity_Message:/tmp/launch-aHSXbz/Apple_Ubiquity_Message\n",
        "PWD:/Users/bmudiam/Git/py_modules_usage/util\n",
        "PAGER:cat\n",
        "COMMAND_MODE:unix2003\n"
       ]
      }
     ],
     "prompt_number": 119
    },
    {
     "cell_type": "code",
     "collapsed": false,
     "input": [
      "\n"
     ],
     "language": "python",
     "metadata": {},
     "outputs": [],
     "prompt_number": 119
    },
    {
     "cell_type": "code",
     "collapsed": false,
     "input": [
      "print \"bala\""
     ],
     "language": "python",
     "metadata": {},
     "outputs": [
      {
       "output_type": "stream",
       "stream": "stdout",
       "text": [
        "bala\n"
       ]
      }
     ],
     "prompt_number": 118
    },
    {
     "cell_type": "code",
     "collapsed": false,
     "input": [],
     "language": "python",
     "metadata": {},
     "outputs": [],
     "prompt_number": 119
    },
    {
     "cell_type": "code",
     "collapsed": false,
     "input": [],
     "language": "python",
     "metadata": {},
     "outputs": []
    }
   ],
   "metadata": {}
  }
 ]
}